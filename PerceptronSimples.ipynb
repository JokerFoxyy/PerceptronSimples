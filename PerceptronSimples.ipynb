{
  "nbformat": 4,
  "nbformat_minor": 0,
  "metadata": {
    "colab": {
      "provenance": [],
      "authorship_tag": "ABX9TyOsl0dRU88zhBFPyUaVn6P2",
      "include_colab_link": true
    },
    "kernelspec": {
      "name": "python3",
      "display_name": "Python 3"
    },
    "language_info": {
      "name": "python"
    }
  },
  "cells": [
    {
      "cell_type": "markdown",
      "metadata": {
        "id": "view-in-github",
        "colab_type": "text"
      },
      "source": [
        "<a href=\"https://colab.research.google.com/github/JokerFoxyy/PerceptronSimples/blob/main/PerceptronSimples.ipynb\" target=\"_parent\"><img src=\"https://colab.research.google.com/assets/colab-badge.svg\" alt=\"Open In Colab\"/></a>"
      ]
    },
    {
      "cell_type": "code",
      "execution_count": 1,
      "metadata": {
        "colab": {
          "base_uri": "https://localhost:8080/"
        },
        "id": "iYXQ5tiiQ_1g",
        "outputId": "93180063-687e-4318-e48f-cab6f7f5abd2"
      },
      "outputs": [
        {
          "output_type": "stream",
          "name": "stdout",
          "text": [
            "[0.03529722968207713, 0.0812848070985046]\n"
          ]
        }
      ],
      "source": [
        "import random\n",
        "import numpy as np\n",
        "\n",
        "# Passo 1: Obter o conjunto de amostras de treinamento (x()) e as saídas desejadas (d()).\n",
        "entradas = np.array([[0, 0], [0, 1], [1, 0], [1, 1]])\n",
        "saidas = np.array([0, 0, 0, 1])\n",
        "\n",
        "# Passo 3: Iniciar o vetor w com valores aleatórios pequenos.\n",
        "def initialize_weights(num_features):\n",
        "    return [random.uniform(-0.1, 0.1) for _ in range(num_features)]\n",
        "\n",
        "# Inicialize os pesos com base no número de características nas amostras de treinamento.\n",
        "weights = initialize_weights(len(entradas[0]))\n",
        "\n",
        "# Passo 4: Especificar a taxa de aprendizagem {n}.\n",
        "learning_rate = 0.1\n",
        "\n",
        "# Passo 5: Iniciar o contador de número de épocas (época = 0).\n",
        "epoch = 0\n",
        "\n",
        "# Passo 6: Repetir as instruções até que o erro seja \"inexistente\".\n",
        "error = \"inexistente\"\n",
        "\n",
        "while error == \"inexistente\":\n",
        "    error = \"existe\"\n",
        "\n",
        "    # Passo 6.2: Para todas as amostras de treinamento (x(k), d(k)), fazer:\n",
        "    for sample, desired_output in zip(entradas, saidas):\n",
        "        # Passo 6.2.1: Calcular o valor u = wTx(k).\n",
        "        u = sum(wi * xi for wi, xi in zip(weights, sample))\n",
        "\n",
        "        # Passo 6.2.2: Calcular a saída do perceptron (y) usando a função degrau (sinal).\n",
        "        if u >= 0:\n",
        "            y = 1\n",
        "        else:\n",
        "            y = 0\n",
        "\n",
        "        # Passo 6.2.3: Se y = d(k).\n",
        "        if y == desired_output:\n",
        "            error = \"inexistente\"  # Não há erro para esta amostra.\n",
        "        else:\n",
        "            # Passo 6.2.3.1: Atualizar os pesos (w) usando a regra de aprendizado do perceptron.\n",
        "            for i in range(len(weights)):\n",
        "                weights[i] = weights[i] + learning_rate * (desired_output - y) * sample[i]\n",
        "\n",
        "    # Passo 6.3: Incrementar o número de épocas.\n",
        "    epoch += 1\n",
        "\n",
        "print(weights)\n",
        "\n",
        "# Fim do Algoritmo Perceptron - Fase de Treinamento\n"
      ]
    }
  ]
}